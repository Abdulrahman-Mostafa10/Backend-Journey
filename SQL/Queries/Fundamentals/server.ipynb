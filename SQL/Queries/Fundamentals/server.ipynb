{
 "cells": [
  {
   "cell_type": "markdown",
   "metadata": {},
   "source": [
    "# **Python with PostgreSQL Basic Startup**"
   ]
  },
  {
   "cell_type": "markdown",
   "metadata": {},
   "source": [
    "#### You have first to download the <span style=\"color:#008080 \">**psycopg**</span> package\n",
    "\n",
    "N.B: Uncomment the pip line to download the package"
   ]
  },
  {
   "cell_type": "code",
   "execution_count": 17,
   "metadata": {},
   "outputs": [],
   "source": [
    "# %pip install psycopg2\n",
    "import psycopg2 as pg"
   ]
  },
  {
   "cell_type": "markdown",
   "metadata": {},
   "source": [
    "#### In order to establish a connection our database we have to use the <span style=\"color:orange\">**connect**</span> function and passing the correct values for the following parameters \n",
    "\n",
    "> 💡 **N.B:** The cursor object has to be defined in order to iterate over your records the same as cursor in MongoDB (❁´◡`❁)"
   ]
  },
  {
   "cell_type": "code",
   "execution_count": 19,
   "metadata": {},
   "outputs": [],
   "source": [
    "conn = pg.connect(database = YOUR_DBNAME, user=IT IS \"POSTGRES\" BY DEFAULT, password=secret, host='localhost')\n",
    "cur = conn.cursor()"
   ]
  },
  {
   "cell_type": "markdown",
   "metadata": {},
   "source": [
    "#### 🥁 The time to write our queries (^///^)\n",
    "\n",
    "> ⚠️**Warning:** Whenever you execute you queries using the <span style=\"color:orange\">**execute**</span> function, you should write it in a concrete way not using variables to avoid any catastrophes by mistake like: \n",
    "> \n",
    "> <span style=\"color:red\"> **ALTER TABLE_NAME DROP COLUMN_NAME**</span> or <span style=\"color:red\"> **DROP DATABASE_NAME**</span> \n",
    "> \n",
    "> so execute any needed query totally in the function infront of your eyes and also to ease debugging while development"
   ]
  },
  {
   "cell_type": "code",
   "execution_count": 20,
   "metadata": {},
   "outputs": [
    {
     "name": "stdout",
     "output_type": "stream",
     "text": [
      "(133, 'Chamber Italian', 'A Fateful Reflection of a Moose And a Husband who must Overcome a Monkey in Nigeria', 2006, 1, 7, Decimal('4.99'), 117, Decimal('14.99'), 'NC-17', datetime.datetime(2013, 5, 26, 14, 50, 58, 951000), ['Trailers'], \"'chamber':1 'fate':4 'husband':11 'italian':2 'monkey':16 'moos':8 'must':13 'nigeria':18 'overcom':14 'reflect':5\")\n"
     ]
    }
   ],
   "source": [
    "data = cur.execute('SELECT * FROM film')\n",
    "data = cur.fetchone()\n",
    "print(data)"
   ]
  },
  {
   "cell_type": "markdown",
   "metadata": {},
   "source": [
    "#### Close you connection"
   ]
  },
  {
   "cell_type": "code",
   "execution_count": 21,
   "metadata": {},
   "outputs": [],
   "source": [
    "conn.close()"
   ]
  }
 ],
 "metadata": {
  "kernelspec": {
   "display_name": "ML",
   "language": "python",
   "name": "python3"
  },
  "language_info": {
   "codemirror_mode": {
    "name": "ipython",
    "version": 3
   },
   "file_extension": ".py",
   "mimetype": "text/x-python",
   "name": "python",
   "nbconvert_exporter": "python",
   "pygments_lexer": "ipython3",
   "version": "3.12.4"
  }
 },
 "nbformat": 4,
 "nbformat_minor": 2
}
